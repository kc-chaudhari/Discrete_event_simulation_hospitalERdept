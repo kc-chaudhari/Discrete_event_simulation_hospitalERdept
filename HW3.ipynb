{
 "cells": [
  {
   "cell_type": "markdown",
   "metadata": {
    "Collapsed": "false"
   },
   "source": [
    "# Title\n",
    "\n",
    "Short description of what this notebook is about"
   ]
  },
  {
   "cell_type": "markdown",
   "metadata": {
    "Collapsed": "false"
   },
   "source": [
    "## Preliminaries"
   ]
  },
  {
   "cell_type": "markdown",
   "metadata": {},
   "source": [
    "Here's a high-level outline of the notebook:\n",
    "\n",
    "Introduction and Setup\n",
    "\n",
    "    Introduction to the project.\n",
    "    Import necessary libraries (SimPy, pandas, matplotlib, etc.).\n",
    "\n",
    "Define the Simulation Environment\n",
    "\n",
    "    Create the environment.\n",
    "    Define resources such as staff and treatment rooms.\n",
    "\n",
    "\n",
    "Define Processes\n",
    "\n",
    "    Patient arrival.\n",
    "    Registration process.\n",
    "    Triage process.\n",
    "    Treatment process.\n",
    "    Discharge process.\n",
    "\n",
    "Run the Simulation\n",
    "\n",
    "    Generate patient arrivals.\n",
    "    Collect data on patient wait times and system throughput.\n",
    "\n",
    "Analyze the Results\n",
    "\n",
    "    Calculate key metrics (average wait time, time in system, etc.).\n",
    "    Plot histograms and summary statistics."
   ]
  },
  {
   "cell_type": "markdown",
   "metadata": {},
   "source": [
    "1. Import Libraries"
   ]
  },
  {
   "cell_type": "code",
   "execution_count": 4,
   "metadata": {},
   "outputs": [],
   "source": [
    "import simpy\n",
    "import random\n",
    "import pandas as pd\n",
    "import matplotlib.pyplot as plt\n",
    "\n",
    "RANDOM_SEED = 42"
   ]
  },
  {
   "cell_type": "markdown",
   "metadata": {},
   "source": [
    "2. Define the Patient Class"
   ]
  },
  {
   "cell_type": "code",
   "execution_count": 5,
   "metadata": {},
   "outputs": [],
   "source": [
    "class Patient:\n",
    "    def __init__(self, patient_id, env):\n",
    "        self.patient_id = patient_id\n",
    "        self.env = env\n",
    "        self.arrival_time = env.now\n",
    "        self.wait_for_triage = 0\n",
    "        self.wait_for_treatment = 0\n",
    "        self.time_in_system = 0\n"
   ]
  },
  {
   "cell_type": "markdown",
   "metadata": {},
   "source": [
    "3. Define the ER Processes"
   ]
  },
  {
   "cell_type": "code",
   "execution_count": 6,
   "metadata": {},
   "outputs": [],
   "source": [
    "def patient_arrival(env, patient_id, er):\n",
    "    patient = Patient(patient_id, env)\n",
    "    with er.triage_nurse.request() as request:\n",
    "        yield request\n",
    "        patient.wait_for_triage = env.now - patient.arrival_time\n",
    "        yield env.process(triage(patient))\n",
    "\n",
    "    with er.doctor.request() as request:\n",
    "        yield request\n",
    "        patient.wait_for_treatment = env.now - (patient.arrival_time + patient.wait_for_triage)\n",
    "        yield env.process(treatment(patient))\n",
    "\n",
    "    patient.time_in_system = env.now - patient.arrival_time\n",
    "    er.patient_log.append(patient)\n",
    "\n",
    "def triage(patient):\n",
    "    yield env.timeout(random.randint(5, 10))\n",
    "\n",
    "def treatment(patient):\n",
    "    yield env.timeout(random.randint(20, 40))\n"
   ]
  },
  {
   "cell_type": "markdown",
   "metadata": {},
   "source": [
    "4. Define the ER Environment\n"
   ]
  },
  {
   "cell_type": "code",
   "execution_count": 7,
   "metadata": {},
   "outputs": [],
   "source": [
    "class EmergencyRoom:\n",
    "    def __init__(self, env):\n",
    "        self.env = env\n",
    "        self.triage_nurse = simpy.Resource(env, capacity=2)\n",
    "        self.doctor = simpy.Resource(env, capacity=2)\n",
    "        self.patient_log = []\n",
    "\n",
    "def run_er(env, er):\n",
    "    patient_id = 0\n",
    "    while True:\n",
    "        yield env.timeout(random.expovariate(1/5))\n",
    "        env.process(patient_arrival(env, patient_id, er))\n",
    "        patient_id += 1\n"
   ]
  },
  {
   "cell_type": "markdown",
   "metadata": {},
   "source": [
    "5. Run the Simulation\n"
   ]
  },
  {
   "cell_type": "code",
   "execution_count": 8,
   "metadata": {},
   "outputs": [],
   "source": [
    "env = simpy.Environment()\n",
    "er = EmergencyRoom(env)\n",
    "env.process(run_er(env, er))\n",
    "env.run(until=480)  # Run for 8 hours (480 minutes)\n"
   ]
  },
  {
   "cell_type": "markdown",
   "metadata": {},
   "source": [
    "6. Analyze the Results\n"
   ]
  },
  {
   "cell_type": "code",
   "execution_count": 9,
   "metadata": {},
   "outputs": [
    {
     "name": "stdout",
     "output_type": "stream",
     "text": [
      "       patient_id  wait_for_triage  wait_for_treatment  time_in_system\n",
      "count   29.000000        29.000000           29.000000       29.000000\n",
      "mean    14.000000         4.028893          157.161273      191.672925\n",
      "std      8.514693         4.191881           91.412877       92.831639\n",
      "min      0.000000         0.000000            5.000000       44.000000\n",
      "25%      7.000000         0.000000           87.365849      116.599034\n",
      "50%     14.000000         2.261213          150.692447      194.769537\n",
      "75%     21.000000         6.153792          233.397276      270.447830\n",
      "max     28.000000        14.249595          303.567561      348.646871\n"
     ]
    },
    {
     "data": {
      "image/png": "[encoded data removed]",
      "text/plain": [
       "<Figure size 640x480 with 1 Axes>"
      ]
     },
     "metadata": {},
     "output_type": "display_data"
    }
   ],
   "source": [
    "# Collect data\n",
    "data = {\n",
    "    \"patient_id\": [],\n",
    "    \"wait_for_triage\": [],\n",
    "    \"wait_for_treatment\": [],\n",
    "    \"time_in_system\": []\n",
    "}\n",
    "\n",
    "for patient in er.patient_log:\n",
    "    data[\"patient_id\"].append(patient.patient_id)\n",
    "    data[\"wait_for_triage\"].append(patient.wait_for_triage)\n",
    "    data[\"wait_for_treatment\"].append(patient.wait_for_treatment)\n",
    "    data[\"time_in_system\"].append(patient.time_in_system)\n",
    "\n",
    "df = pd.DataFrame(data)\n",
    "\n",
    "# Summary statistics\n",
    "print(df.describe())\n",
    "\n",
    "# Plot histograms\n",
    "plt.hist(df[\"time_in_system\"], bins=30, alpha=0.7, label='Time in System')\n",
    "plt.xlabel('Time (minutes)')\n",
    "plt.ylabel('Frequency')\n",
    "plt.legend()\n",
    "plt.show()\n"
   ]
  }
 ],
 "metadata": {
  "kernelspec": {
   "display_name": "Python 3",
   "language": "python",
   "name": "python3"
  },
  "language_info": {
   "codemirror_mode": {
    "name": "ipython",
    "version": 3
   },
   "file_extension": ".py",
   "mimetype": "text/x-python",
   "name": "python",
   "nbconvert_exporter": "python",
   "pygments_lexer": "ipython3",
   "version": "3.12.3"
  },
  "toc-autonumbering": true
 },
 "nbformat": 4,
 "nbformat_minor": 4
}
