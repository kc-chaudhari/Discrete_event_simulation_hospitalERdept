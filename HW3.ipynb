{
 "cells": [
  {
   "cell_type": "markdown",
   "metadata": {
    "Collapsed": "false"
   },
   "source": [
    "# Title\n",
    "\n",
    "Short description of what this notebook is about"
   ]
  },
  {
   "cell_type": "markdown",
   "metadata": {
    "Collapsed": "false"
   },
   "source": [
    "## Preliminaries"
   ]
  },
  {
   "cell_type": "code",
   "execution_count": 1,
   "metadata": {
    "Collapsed": "false"
   },
   "outputs": [],
   "source": [
    "# To auto-reload modules in jupyter notebook (so that changes in files *.py doesn't require manual reloading):\n",
    "# https://stackoverflow.com/questions/5364050/reloading-submodules-in-ipython\n",
    "%load_ext autoreload\n",
    "%autoreload 2"
   ]
  },
  {
   "cell_type": "markdown",
   "metadata": {
    "Collapsed": "false"
   },
   "source": [
    "Import commonly used libraries and magic command for inline plotting"
   ]
  },
  {
   "cell_type": "code",
   "execution_count": 4,
   "metadata": {
    "Collapsed": "false"
   },
   "outputs": [],
   "source": [
    "import numpy as np\n",
    "import pandas as pd\n",
    "import matplotlib.pyplot as plt\n",
    "import seaborn as sns\n"
   ]
  },
  {
   "cell_type": "code",
   "execution_count": 5,
   "metadata": {},
   "outputs": [],
   "source": [
    "%matplotlib inline"
   ]
  },
  {
   "cell_type": "markdown",
   "metadata": {
    "Collapsed": "false"
   },
   "source": [
    "## Work\n",
    "\n",
    "This is where work gets done."
   ]
  },
  {
   "cell_type": "markdown",
   "metadata": {},
   "source": [
    "Here's a high-level outline of the notebook:\n",
    "\n",
    "Introduction and Setup\n",
    "\n",
    "    Introduction to the project.\n",
    "    Import necessary libraries (SimPy, pandas, matplotlib, etc.).\n",
    "\n",
    "Define the Simulation Environment\n",
    "\n",
    "    Create the environment.\n",
    "    Define resources such as staff and treatment rooms.\n",
    "\n",
    "\n",
    "Define Processes\n",
    "\n",
    "    Patient arrival.\n",
    "    Registration process.\n",
    "    Triage process.\n",
    "    Treatment process.\n",
    "    Discharge process.\n",
    "\n",
    "Run the Simulation\n",
    "\n",
    "    Generate patient arrivals.\n",
    "    Collect data on patient wait times and system throughput.\n",
    "\n",
    "Analyze the Results\n",
    "\n",
    "    Calculate key metrics (average wait time, time in system, etc.).\n",
    "    Plot histograms and summary statistics."
   ]
  },
  {
   "cell_type": "code",
   "execution_count": null,
   "metadata": {
    "Collapsed": "false"
   },
   "outputs": [],
   "source": [
    "# Import necessary libraries\n",
    "import simpy\n",
    "import pandas as pd\n",
    "import numpy as np\n",
    "import matplotlib.pyplot as plt\n",
    "\n",
    "# Define the simulation environment and resources\n",
    "class EmergencyDepartment:\n",
    "    def __init__(self, env, num_doctors, num_nurses, num_beds):\n",
    "        self.env = env\n",
    "        self.doctor = simpy.Resource(env, num_doctors)\n",
    "        self.nurse = simpy.Resource(env, num_nurses)\n",
    "        self.bed = simpy.Resource(env, num_beds)\n",
    "\n",
    "# Define patient processes\n",
    "def patient(env, name, ed):\n",
    "    arrival_time = env.now\n",
    "\n",
    "    # Registration\n",
    "    with ed.nurse.request() as request:\n",
    "        yield request\n",
    "        yield env.timeout(np.random.uniform(5, 10))  # Registration takes 5-10 minutes\n",
    "\n",
    "    # Triage\n",
    "    with ed.nurse.request() as request:\n",
    "        yield request\n",
    "        yield env.timeout(np.random.uniform(5, 15))  # Triage takes 5-15 minutes\n",
    "\n",
    "    # Treatment\n",
    "    with ed.doctor.request() as request:\n",
    "        yield request\n",
    "        with ed.bed.request() as request:\n",
    "            yield request\n",
    "            yield env.timeout(np.random.uniform(30, 120))  # Treatment takes 30-120 minutes\n",
    "\n",
    "    # Discharge\n",
    "    discharge_time = env.now\n",
    "    patient_log.append([name, arrival_time, discharge_time])\n",
    "\n",
    "# Setup and run the simulation\n",
    "def run_simulation(num_patients, num_doctors, num_nurses, num_beds, simulation_time):\n",
    "    global patient_log\n",
    "    patient_log = []\n",
    "\n",
    "    env = simpy.Environment()\n",
    "    ed = EmergencyDepartment(env, num_doctors, num_nurses, num_beds)\n",
    "\n",
    "    for i in range(num_patients):\n",
    "        env.process(patient(env, f'Patient {i+1}', ed))\n",
    "        yield env.timeout(np.random.exponential(10))  # New patient arrives every 10 minutes on average\n",
    "\n",
    "    env.run(until=simulation_time)\n",
    "\n",
    "# Parameters\n",
    "num_patients = 100\n",
    "num_doctors = 3\n",
    "num_nurses = 5\n",
    "num_beds = 10\n",
    "simulation_time = 480  # 8 hours\n",
    "\n",
    "# Run the simulation\n",
    "run_simulation(num_patients, num_doctors, num_nurses, num_beds, simulation_time)\n",
    "\n",
    "# Analyze the results\n",
    "patient_log_df = pd.DataFrame(patient_log, columns=['Patient', 'Arrival', 'Discharge'])\n",
    "patient_log_df['Time in System'] = patient_log_df['Discharge'] - patient_log_df['Arrival']\n",
    "\n",
    "# Summary statistics\n",
    "print(patient_log_df.describe())\n",
    "\n",
    "# Plot histograms\n",
    "plt.hist(patient_log_df['Time in System'], bins=20)\n",
    "plt.xlabel('Time in System (minutes)')\n",
    "plt.ylabel('Number of Patients')\n",
    "plt.title('Distribution of Time in System')\n",
    "plt.show()\n"
   ]
  },
  {
   "cell_type": "markdown",
   "metadata": {},
   "source": [
    "I'll create a similar project but instead of a vaccine clinic, I'll model a hospital emergency department (ED). The ED will include processes such as patient triage, consultation with doctors, and treatment. The resources will include triage nurses, doctors, and treatment rooms.\n",
    "\n",
    "Hospital Emergency Department Simulation\n",
    "Here's an outline of the new project:\n",
    "\n",
    "Define Resources:\n",
    "\n",
    "Triage nurses\n",
    "Doctors\n",
    "Treatment rooms\n",
    "Processes:\n",
    "\n",
    "Patient arrival\n",
    "Triage\n",
    "Consultation\n",
    "Treatment\n",
    "Parameters:\n",
    "\n",
    "Arrival rate of patients\n",
    "Service times for each process\n",
    "Number of resources"
   ]
  },
  {
   "cell_type": "code",
   "execution_count": null,
   "metadata": {},
   "outputs": [],
   "source": [
    "import simpy\n",
    "import random\n",
    "import pandas as pd\n",
    "from numpy.random import default_rng\n",
    "\n",
    "class EmergencyDepartment:\n",
    "    def __init__(self, env, num_triage_nurses, num_doctors, num_treatment_rooms, rng):\n",
    "        self.env = env\n",
    "        self.triage_nurses = simpy.Resource(env, num_triage_nurses)\n",
    "        self.doctors = simpy.Resource(env, num_doctors)\n",
    "        self.treatment_rooms = simpy.Resource(env, num_treatment_rooms)\n",
    "        self.rng = rng\n",
    "        self.waiting_times = []\n",
    "    \n",
    "    def triage(self, patient):\n",
    "        triage_time = self.rng.uniform(5, 15)\n",
    "        yield self.env.timeout(triage_time)\n",
    "    \n",
    "    def consult(self, patient):\n",
    "        consult_time = self.rng.uniform(10, 30)\n",
    "        yield self.env.timeout(consult_time)\n",
    "    \n",
    "    def treat(self, patient):\n",
    "        treatment_time = self.rng.uniform(20, 60)\n",
    "        yield self.env.timeout(treatment_time)\n",
    "\n",
    "def patient_process(env, ed, patient_id, rng):\n",
    "    arrival_time = env.now\n",
    "    \n",
    "    with ed.triage_nurses.request() as request:\n",
    "        yield request\n",
    "        yield env.process(ed.triage(patient_id))\n",
    "    \n",
    "    with ed.doctors.request() as request:\n",
    "        yield request\n",
    "        yield env.process(ed.consult(patient_id))\n",
    "    \n",
    "    with ed.treatment_rooms.request() as request:\n",
    "        yield request\n",
    "        yield env.process(ed.treat(patient_id))\n",
    "    \n",
    "    waiting_time = env.now - arrival_time\n",
    "    ed.waiting_times.append(waiting_time)\n",
    "\n",
    "def run_ed(env, ed, mean_interarrival_time, rng, stoptime):\n",
    "    patient_id = 0\n",
    "    while env.now < stoptime:\n",
    "        interarrival_time = rng.exponential(mean_interarrival_time)\n",
    "        yield env.timeout(interarrival_time)\n",
    "        patient_id += 1\n",
    "        env.process(patient_process(env, ed, patient_id, rng))\n",
    "\n",
    "def main():\n",
    "    # Parameters\n",
    "    patients_per_hour = 10\n",
    "    mean_interarrival_time = 60.0 / patients_per_hour\n",
    "    num_triage_nurses = 3\n",
    "    num_doctors = 2\n",
    "    num_treatment_rooms = 4\n",
    "    stoptime = 480  # 8 hours\n",
    "    \n",
    "    # Create a random number generator\n",
    "    rng = default_rng(seed=12345)\n",
    "    \n",
    "    # Create a simulation environment\n",
    "    env = simpy.Environment()\n",
    "    \n",
    "    # Create an emergency department\n",
    "    ed = EmergencyDepartment(env, num_triage_nurses, num_doctors, num_treatment_rooms, rng)\n",
    "    \n",
    "    # Register the run_ed (generator) function\n",
    "    env.process(run_ed(env, ed, mean_interarrival_time, rng, stoptime=stoptime))\n",
    "    \n",
    "    # Run the simulation\n",
    "    env.run()\n",
    "    \n",
    "    # Output results\n",
    "    waiting_times_df = pd.DataFrame(ed.waiting_times, columns=[\"Waiting Time\"])\n",
    "    print(waiting_times_df.describe())\n",
    "    waiting_times_df.to_csv(\"ed_waiting_times.csv\", index=False)\n",
    "\n",
    "if __name__ == \"__main__\":\n",
    "    main()\n"
   ]
  }
 ],
 "metadata": {
  "kernelspec": {
   "display_name": "Python 3",
   "language": "python",
   "name": "python3"
  },
  "language_info": {
   "codemirror_mode": {
    "name": "ipython",
    "version": 3
   },
   "file_extension": ".py",
   "mimetype": "text/x-python",
   "name": "python",
   "nbconvert_exporter": "python",
   "pygments_lexer": "ipython3",
   "version": "3.9.1"
  },
  "toc-autonumbering": true
 },
 "nbformat": 4,
 "nbformat_minor": 4
}
